{
 "cells": [
  {
   "cell_type": "code",
   "execution_count": 1,
   "metadata": {
    "_cell_guid": "466b1182-f052-4452-abb5-4fbe3cd92095",
    "_uuid": "6f747b567b4b89f9aaa48e503ddddabf214cb278"
   },
   "outputs": [],
   "source": [
    "# Importing libraries\n",
    "import pandas as pd\n",
    "import numpy as np\n",
    "import matplotlib.pyplot as plt\n",
    "import seaborn as sns\n",
    "\n",
    "\n"
   ]
  },
  {
   "cell_type": "code",
   "execution_count": 2,
   "metadata": {
    "scrolled": true
   },
   "outputs": [
    {
     "data": {
      "text/html": [
       "<div>\n",
       "<style scoped>\n",
       "    .dataframe tbody tr th:only-of-type {\n",
       "        vertical-align: middle;\n",
       "    }\n",
       "\n",
       "    .dataframe tbody tr th {\n",
       "        vertical-align: top;\n",
       "    }\n",
       "\n",
       "    .dataframe thead th {\n",
       "        text-align: right;\n",
       "    }\n",
       "</style>\n",
       "<table border=\"1\" class=\"dataframe\">\n",
       "  <thead>\n",
       "    <tr style=\"text-align: right;\">\n",
       "      <th></th>\n",
       "      <th>id</th>\n",
       "      <th>diagnosis</th>\n",
       "      <th>radius_mean</th>\n",
       "      <th>texture_mean</th>\n",
       "      <th>perimeter_mean</th>\n",
       "      <th>area_mean</th>\n",
       "      <th>smoothness_mean</th>\n",
       "      <th>compactness_mean</th>\n",
       "      <th>concavity_mean</th>\n",
       "      <th>concave points_mean</th>\n",
       "      <th>...</th>\n",
       "      <th>texture_worst</th>\n",
       "      <th>perimeter_worst</th>\n",
       "      <th>area_worst</th>\n",
       "      <th>smoothness_worst</th>\n",
       "      <th>compactness_worst</th>\n",
       "      <th>concavity_worst</th>\n",
       "      <th>concave points_worst</th>\n",
       "      <th>symmetry_worst</th>\n",
       "      <th>fractal_dimension_worst</th>\n",
       "      <th>Unnamed: 32</th>\n",
       "    </tr>\n",
       "  </thead>\n",
       "  <tbody>\n",
       "    <tr>\n",
       "      <th>0</th>\n",
       "      <td>842302</td>\n",
       "      <td>M</td>\n",
       "      <td>17.99</td>\n",
       "      <td>10.38</td>\n",
       "      <td>122.80</td>\n",
       "      <td>1001.0</td>\n",
       "      <td>0.11840</td>\n",
       "      <td>0.27760</td>\n",
       "      <td>0.3001</td>\n",
       "      <td>0.14710</td>\n",
       "      <td>...</td>\n",
       "      <td>17.33</td>\n",
       "      <td>184.60</td>\n",
       "      <td>2019.0</td>\n",
       "      <td>0.1622</td>\n",
       "      <td>0.6656</td>\n",
       "      <td>0.7119</td>\n",
       "      <td>0.2654</td>\n",
       "      <td>0.4601</td>\n",
       "      <td>0.11890</td>\n",
       "      <td>NaN</td>\n",
       "    </tr>\n",
       "    <tr>\n",
       "      <th>1</th>\n",
       "      <td>842517</td>\n",
       "      <td>M</td>\n",
       "      <td>20.57</td>\n",
       "      <td>17.77</td>\n",
       "      <td>132.90</td>\n",
       "      <td>1326.0</td>\n",
       "      <td>0.08474</td>\n",
       "      <td>0.07864</td>\n",
       "      <td>0.0869</td>\n",
       "      <td>0.07017</td>\n",
       "      <td>...</td>\n",
       "      <td>23.41</td>\n",
       "      <td>158.80</td>\n",
       "      <td>1956.0</td>\n",
       "      <td>0.1238</td>\n",
       "      <td>0.1866</td>\n",
       "      <td>0.2416</td>\n",
       "      <td>0.1860</td>\n",
       "      <td>0.2750</td>\n",
       "      <td>0.08902</td>\n",
       "      <td>NaN</td>\n",
       "    </tr>\n",
       "    <tr>\n",
       "      <th>2</th>\n",
       "      <td>84300903</td>\n",
       "      <td>M</td>\n",
       "      <td>19.69</td>\n",
       "      <td>21.25</td>\n",
       "      <td>130.00</td>\n",
       "      <td>1203.0</td>\n",
       "      <td>0.10960</td>\n",
       "      <td>0.15990</td>\n",
       "      <td>0.1974</td>\n",
       "      <td>0.12790</td>\n",
       "      <td>...</td>\n",
       "      <td>25.53</td>\n",
       "      <td>152.50</td>\n",
       "      <td>1709.0</td>\n",
       "      <td>0.1444</td>\n",
       "      <td>0.4245</td>\n",
       "      <td>0.4504</td>\n",
       "      <td>0.2430</td>\n",
       "      <td>0.3613</td>\n",
       "      <td>0.08758</td>\n",
       "      <td>NaN</td>\n",
       "    </tr>\n",
       "    <tr>\n",
       "      <th>3</th>\n",
       "      <td>84348301</td>\n",
       "      <td>M</td>\n",
       "      <td>11.42</td>\n",
       "      <td>20.38</td>\n",
       "      <td>77.58</td>\n",
       "      <td>386.1</td>\n",
       "      <td>0.14250</td>\n",
       "      <td>0.28390</td>\n",
       "      <td>0.2414</td>\n",
       "      <td>0.10520</td>\n",
       "      <td>...</td>\n",
       "      <td>26.50</td>\n",
       "      <td>98.87</td>\n",
       "      <td>567.7</td>\n",
       "      <td>0.2098</td>\n",
       "      <td>0.8663</td>\n",
       "      <td>0.6869</td>\n",
       "      <td>0.2575</td>\n",
       "      <td>0.6638</td>\n",
       "      <td>0.17300</td>\n",
       "      <td>NaN</td>\n",
       "    </tr>\n",
       "    <tr>\n",
       "      <th>4</th>\n",
       "      <td>84358402</td>\n",
       "      <td>M</td>\n",
       "      <td>20.29</td>\n",
       "      <td>14.34</td>\n",
       "      <td>135.10</td>\n",
       "      <td>1297.0</td>\n",
       "      <td>0.10030</td>\n",
       "      <td>0.13280</td>\n",
       "      <td>0.1980</td>\n",
       "      <td>0.10430</td>\n",
       "      <td>...</td>\n",
       "      <td>16.67</td>\n",
       "      <td>152.20</td>\n",
       "      <td>1575.0</td>\n",
       "      <td>0.1374</td>\n",
       "      <td>0.2050</td>\n",
       "      <td>0.4000</td>\n",
       "      <td>0.1625</td>\n",
       "      <td>0.2364</td>\n",
       "      <td>0.07678</td>\n",
       "      <td>NaN</td>\n",
       "    </tr>\n",
       "  </tbody>\n",
       "</table>\n",
       "<p>5 rows × 33 columns</p>\n",
       "</div>"
      ],
      "text/plain": [
       "         id diagnosis  radius_mean  texture_mean  perimeter_mean  area_mean  \\\n",
       "0    842302         M        17.99         10.38          122.80     1001.0   \n",
       "1    842517         M        20.57         17.77          132.90     1326.0   \n",
       "2  84300903         M        19.69         21.25          130.00     1203.0   \n",
       "3  84348301         M        11.42         20.38           77.58      386.1   \n",
       "4  84358402         M        20.29         14.34          135.10     1297.0   \n",
       "\n",
       "   smoothness_mean  compactness_mean  concavity_mean  concave points_mean  \\\n",
       "0          0.11840           0.27760          0.3001              0.14710   \n",
       "1          0.08474           0.07864          0.0869              0.07017   \n",
       "2          0.10960           0.15990          0.1974              0.12790   \n",
       "3          0.14250           0.28390          0.2414              0.10520   \n",
       "4          0.10030           0.13280          0.1980              0.10430   \n",
       "\n",
       "   ...  texture_worst  perimeter_worst  area_worst  smoothness_worst  \\\n",
       "0  ...          17.33           184.60      2019.0            0.1622   \n",
       "1  ...          23.41           158.80      1956.0            0.1238   \n",
       "2  ...          25.53           152.50      1709.0            0.1444   \n",
       "3  ...          26.50            98.87       567.7            0.2098   \n",
       "4  ...          16.67           152.20      1575.0            0.1374   \n",
       "\n",
       "   compactness_worst  concavity_worst  concave points_worst  symmetry_worst  \\\n",
       "0             0.6656           0.7119                0.2654          0.4601   \n",
       "1             0.1866           0.2416                0.1860          0.2750   \n",
       "2             0.4245           0.4504                0.2430          0.3613   \n",
       "3             0.8663           0.6869                0.2575          0.6638   \n",
       "4             0.2050           0.4000                0.1625          0.2364   \n",
       "\n",
       "   fractal_dimension_worst  Unnamed: 32  \n",
       "0                  0.11890          NaN  \n",
       "1                  0.08902          NaN  \n",
       "2                  0.08758          NaN  \n",
       "3                  0.17300          NaN  \n",
       "4                  0.07678          NaN  \n",
       "\n",
       "[5 rows x 33 columns]"
      ]
     },
     "execution_count": 2,
     "metadata": {},
     "output_type": "execute_result"
    }
   ],
   "source": [
    "# Importing data\n",
    "data = pd.read_csv(\"data (2).csv\")\n",
    "data .head()"
   ]
  },
  {
   "cell_type": "code",
   "execution_count": 3,
   "metadata": {},
   "outputs": [],
   "source": [
    "del data['Unnamed: 32']"
   ]
  },
  {
   "cell_type": "code",
   "execution_count": 4,
   "metadata": {
    "_cell_guid": "962b3671-f704-438d-bd54-931767e877cf",
    "_uuid": "f6af18d53dcaabb44c49b50c13ba3dafe7bbae10"
   },
   "outputs": [],
   "source": [
    "X = data.iloc[:, 2:].values\n",
    "y = data.iloc[:, 1].values"
   ]
  },
  {
   "cell_type": "code",
   "execution_count": 5,
   "metadata": {},
   "outputs": [],
   "source": [
    "# Encoding categorical data\n",
    "from sklearn.preprocessing import LabelEncoder\n",
    "labelencoder_X_1 = LabelEncoder()\n",
    "y = labelencoder_X_1.fit_transform(y)"
   ]
  },
  {
   "cell_type": "code",
   "execution_count": 6,
   "metadata": {},
   "outputs": [],
   "source": [
    "# Splitting the dataset into the Training set and Test set\n",
    "from sklearn.model_selection import train_test_split\n",
    "X_train, X_test, y_train, y_test = train_test_split(X, y, test_size = 0.1, random_state = 0)\n"
   ]
  },
  {
   "cell_type": "code",
   "execution_count": 7,
   "metadata": {},
   "outputs": [],
   "source": [
    "#Feature Scaling\n",
    "from sklearn.preprocessing import StandardScaler\n",
    "sc = StandardScaler()\n",
    "X_train = sc.fit_transform(X_train)\n",
    "X_test = sc.transform(X_test)"
   ]
  },
  {
   "cell_type": "code",
   "execution_count": 9,
   "metadata": {},
   "outputs": [
    {
     "name": "stdout",
     "output_type": "stream",
     "text": [
      "[[-0.52787029  2.49821982 -0.59939466 ... -1.74713139 -0.79044533\n",
      "  -0.91054389]\n",
      " [-0.55333608  0.29431013 -0.60759343 ... -0.62275667 -0.33646358\n",
      "  -0.83551633]\n",
      " [ 2.15452653  0.40392257  2.26525805 ...  1.03846122 -0.11504791\n",
      "   0.26488788]\n",
      " ...\n",
      " [-1.3297598  -0.21876938 -1.32088704 ... -0.98271999 -0.718764\n",
      "  -0.13637062]\n",
      " [-1.24940108 -0.24209117 -1.2835826  ... -1.74713139 -1.58690456\n",
      "  -1.01280367]\n",
      " [-0.74291476  1.08958336 -0.71827692 ... -0.2865488  -1.26354211\n",
      "   0.19486216]]\n",
      "[[-0.20813312  0.29431013 -0.13944326 ...  1.35620942  1.08282676\n",
      "   1.50534354]\n",
      " [-0.26189423  1.39743106 -0.3255555  ... -0.83852283 -0.73469319\n",
      "  -0.8855347 ]\n",
      " [-0.0327021  -0.83912914 -0.10049907 ... -0.50397936 -1.22531207\n",
      "  -0.92888396]\n",
      " ...\n",
      " [-0.47410917  0.14738282 -0.47600306 ... -0.59340278 -0.35079984\n",
      "  -0.34311323]\n",
      " [-0.75423289 -0.7528385  -0.77976775 ... -0.75636222 -0.08637538\n",
      "   0.21209071]\n",
      " [-0.79667588  1.82421992 -0.83142005 ... -1.43195543 -0.08956122\n",
      "  -0.71936255]]\n"
     ]
    }
   ],
   "source": [
    "print(X_train)\n",
    "print(X_test)"
   ]
  },
  {
   "cell_type": "code",
   "execution_count": 10,
   "metadata": {
    "_cell_guid": "51ab3d86-d1fd-40b6-a463-012e24a5c0a0",
    "_uuid": "c01850e3c738b8a55146cce28e5f6fe82378032e",
    "scrolled": false
   },
   "outputs": [],
   "source": [
    "import keras\n",
    "from keras.models import Sequential\n",
    "from keras.layers import Dense, Dropout"
   ]
  },
  {
   "cell_type": "code",
   "execution_count": 13,
   "metadata": {
    "_cell_guid": "5e19dee2-9602-42c9-bc3b-41d912e0aa1d",
    "_uuid": "f07a3637824959ff96269ff3806b994c4f64d117"
   },
   "outputs": [],
   "source": [
    "# Initialising the ANN\n",
    "classifier = Sequential()"
   ]
  },
  {
   "cell_type": "code",
   "execution_count": 15,
   "metadata": {},
   "outputs": [],
   "source": [
    "from keras.models import Sequential\n",
    "from keras.layers import Dense, Dropout\n",
    "\n",
    "# Assuming 'classifier' is a Sequential model\n",
    "classifier = Sequential()\n",
    "\n",
    "# Adding the input layer and the first hidden layer\n",
    "classifier.add(Dense(units=16, kernel_initializer='uniform', activation='relu', input_dim=30))\n",
    "\n",
    "# Adding dropout to prevent overfitting\n",
    "classifier.add(Dropout(rate=0.1))\n"
   ]
  },
  {
   "cell_type": "markdown",
   "metadata": {
    "_cell_guid": "dd954d81-d773-4e90-aaa3-34d1dcb99e68",
    "_uuid": "3d42817e7446a061dca811ea75ece45b15a4fdd9"
   },
   "source": [
    "input_dim - number of columns of the dataset \n",
    "\n",
    "output_dim - number of outputs to be fed to the next layer, if any\n",
    "\n",
    "activation - activation function which is ReLU in this case\n",
    "\n",
    "init - the way in which weights should be provided to an ANN\n",
    " \n",
    "The **ReLU** function is f(x)=max(0,x). Usually this is applied element-wise to the output of some other function, such as a matrix-vector product. In MLP usages, rectifier units replace all other activation functions except perhaps the readout layer. But I suppose you could mix-and-match them if you'd like. One way ReLUs improve neural networks is by speeding up training. The gradient computation is very simple (either 0 or 1 depending on the sign of x). Also, the computational step of a ReLU is easy: any negative elements are set to 0.0 -- no exponentials, no multiplication or division operations. Gradients of logistic and hyperbolic tangent networks are smaller than the positive portion of the ReLU. This means that the positive portion is updated more rapidly as training progresses. However, this comes at a cost. The 0 gradient on the left-hand side is has its own problem, called \"dead neurons,\" in which a gradient update sets the incoming values to a ReLU such that the output is always zero; modified ReLU units such as ELU (or Leaky ReLU etc.) can minimize this. Source : [StackExchange](https://stats.stackexchange.com/questions/226923/why-do-we-use-relu-in-neural-networks-and-how-do-we-use-it)"
   ]
  },
  {
   "cell_type": "code",
   "execution_count": 17,
   "metadata": {},
   "outputs": [],
   "source": [
    "# Adding the second hidden layer\n",
    "classifier.add(Dense(units=16, kernel_initializer='uniform', activation='relu'))\n",
    "# Adding dropout to prevent overfitting\n",
    "classifier.add(Dropout(rate=0.1))\n"
   ]
  },
  {
   "attachments": {
    "image.png": {
     "image/png": "[encoded data removed]"
    }
   },
   "cell_type": "markdown",
   "metadata": {},
   "source": [
    "![image.png](attachment:image.png)"
   ]
  },
  {
   "cell_type": "code",
   "execution_count": 22,
   "metadata": {},
   "outputs": [],
   "source": [
    "# Adding the output layer\n",
    "classifier.add(Dense(units=1, kernel_initializer='uniform', activation='sigmoid'))\n"
   ]
  },
  {
   "cell_type": "markdown",
   "metadata": {
    "_cell_guid": "8f80ed07-4a4a-48a4-aa84-b53fc713c61b",
    "_uuid": "71c445f1e371d37d28f4ff405b45d5497ea8bdde"
   },
   "source": [
    "output_dim is 1 as we want only 1 output from the final layer.\n",
    "\n",
    "Sigmoid function is used when dealing with classfication problems with 2 types of results.(Submax function is used for 3 or more classification results)\n",
    "<img src=\"https://cdn-images-1.medium.com/max/1000/1*Xu7B5y9gp0iL5ooBj7LtWw.png\">"
   ]
  },
  {
   "cell_type": "code",
   "execution_count": 23,
   "metadata": {
    "_cell_guid": "9fc5ca11-edd6-4ddd-92b0-c5b6866abbec",
    "_uuid": "01ff691f323d264792730ae9d3af72a1e9106271"
   },
   "outputs": [],
   "source": [
    "# Compiling the ANN\n",
    "classifier.compile(optimizer='adam', loss='binary_crossentropy', metrics=['accuracy'])"
   ]
  },
  {
   "attachments": {
    "image.png": {
     "image/png": "[encoded data removed]"
    }
   },
   "cell_type": "markdown",
   "metadata": {},
   "source": [
    "![image.png](attachment:image.png)"
   ]
  },
  {
   "cell_type": "markdown",
   "metadata": {
    "_cell_guid": "6375e2f2-5cf5-42e4-a199-338dbc34a07a",
    "_uuid": "d198bbf1616b2bcd99d138f24559d0eff2a07d01"
   },
   "source": [
    "Optimizer is chosen as adam for gradient descent.\n",
    "\n",
    "Binary_crossentropy is the loss function used. \n",
    "\n",
    "Cross-entropy loss, or log loss, measures the performance of a classification model whose output is a probability value between 0 and 1. Cross-entropy loss increases as the predicted probability diverges from the actual label. So predicting a probability of .012 when the actual observation label is 1 would be bad and result in a high loss value. A perfect model would have a log loss of 0. [More about this](http://ml-cheatsheet.readthedocs.io/en/latest/loss_functions.html)"
   ]
  },
  {
   "cell_type": "code",
   "execution_count": 26,
   "metadata": {
    "_cell_guid": "deb09534-714c-4fd2-bac5-d5dff9c474ef",
    "_uuid": "6e2d2d3f17102bc9c4e8f093c914c58412b28ee3",
    "scrolled": true
   },
   "outputs": [
    {
     "name": "stdout",
     "output_type": "stream",
     "text": [
      "Epoch 1/150\n",
      "6/6 [==============================] - 2s 12ms/step - loss: 0.6920 - accuracy: 0.7207\n",
      "Epoch 2/150\n",
      "6/6 [==============================] - 0s 4ms/step - loss: 0.6893 - accuracy: 0.6719\n",
      "Epoch 3/150\n",
      "6/6 [==============================] - 0s 2ms/step - loss: 0.6852 - accuracy: 0.7051\n",
      "Epoch 4/150\n",
      "6/6 [==============================] - 0s 2ms/step - loss: 0.6791 - accuracy: 0.7734\n",
      "Epoch 5/150\n",
      "6/6 [==============================] - 0s 3ms/step - loss: 0.6693 - accuracy: 0.8516\n",
      "Epoch 6/150\n",
      "6/6 [==============================] - 0s 2ms/step - loss: 0.6558 - accuracy: 0.9062\n",
      "Epoch 7/150\n",
      "6/6 [==============================] - 0s 2ms/step - loss: 0.6346 - accuracy: 0.9160\n",
      "Epoch 8/150\n",
      "6/6 [==============================] - 0s 3ms/step - loss: 0.6050 - accuracy: 0.9336\n",
      "Epoch 9/150\n",
      "6/6 [==============================] - 0s 3ms/step - loss: 0.5711 - accuracy: 0.9434\n",
      "Epoch 10/150\n",
      "6/6 [==============================] - 0s 1ms/step - loss: 0.5242 - accuracy: 0.9375\n",
      "Epoch 11/150\n",
      "6/6 [==============================] - 0s 860us/step - loss: 0.4751 - accuracy: 0.9395\n",
      "Epoch 12/150\n",
      "6/6 [==============================] - 0s 1ms/step - loss: 0.4223 - accuracy: 0.9375\n",
      "Epoch 13/150\n",
      "6/6 [==============================] - 0s 1ms/step - loss: 0.3690 - accuracy: 0.9414\n",
      "Epoch 14/150\n",
      "6/6 [==============================] - 0s 1ms/step - loss: 0.3163 - accuracy: 0.9414\n",
      "Epoch 15/150\n",
      "6/6 [==============================] - 0s 1ms/step - loss: 0.2810 - accuracy: 0.9414\n",
      "Epoch 16/150\n",
      "6/6 [==============================] - 0s 1ms/step - loss: 0.2428 - accuracy: 0.9492\n",
      "Epoch 17/150\n",
      "6/6 [==============================] - 0s 900us/step - loss: 0.2186 - accuracy: 0.9512\n",
      "Epoch 18/150\n",
      "6/6 [==============================] - 0s 2ms/step - loss: 0.1922 - accuracy: 0.9551\n",
      "Epoch 19/150\n",
      "6/6 [==============================] - 0s 3ms/step - loss: 0.1760 - accuracy: 0.9590\n",
      "Epoch 20/150\n",
      "6/6 [==============================] - 0s 1ms/step - loss: 0.1617 - accuracy: 0.9688\n",
      "Epoch 21/150\n",
      "6/6 [==============================] - 0s 1ms/step - loss: 0.1482 - accuracy: 0.9668\n",
      "Epoch 22/150\n",
      "6/6 [==============================] - 0s 1ms/step - loss: 0.1377 - accuracy: 0.9668\n",
      "Epoch 23/150\n",
      "6/6 [==============================] - 0s 1ms/step - loss: 0.1264 - accuracy: 0.9688\n",
      "Epoch 24/150\n",
      "6/6 [==============================] - 0s 976us/step - loss: 0.1222 - accuracy: 0.9727\n",
      "Epoch 25/150\n",
      "6/6 [==============================] - 0s 1ms/step - loss: 0.1121 - accuracy: 0.9746\n",
      "Epoch 26/150\n",
      "6/6 [==============================] - 0s 2ms/step - loss: 0.1074 - accuracy: 0.9707\n",
      "Epoch 27/150\n",
      "6/6 [==============================] - 0s 1ms/step - loss: 0.1076 - accuracy: 0.9766\n",
      "Epoch 28/150\n",
      "6/6 [==============================] - 0s 3ms/step - loss: 0.1014 - accuracy: 0.9746\n",
      "Epoch 29/150\n",
      "6/6 [==============================] - 0s 980us/step - loss: 0.0944 - accuracy: 0.9746\n",
      "Epoch 30/150\n",
      "6/6 [==============================] - 0s 2ms/step - loss: 0.0936 - accuracy: 0.9785\n",
      "Epoch 31/150\n",
      "6/6 [==============================] - 0s 1ms/step - loss: 0.0910 - accuracy: 0.9746\n",
      "Epoch 32/150\n",
      "6/6 [==============================] - 0s 3ms/step - loss: 0.0851 - accuracy: 0.9766\n",
      "Epoch 33/150\n",
      "6/6 [==============================] - 0s 1ms/step - loss: 0.0882 - accuracy: 0.9805\n",
      "Epoch 34/150\n",
      "6/6 [==============================] - 0s 1ms/step - loss: 0.0826 - accuracy: 0.9785\n",
      "Epoch 35/150\n",
      "6/6 [==============================] - 0s 1ms/step - loss: 0.0872 - accuracy: 0.9746\n",
      "Epoch 36/150\n",
      "6/6 [==============================] - 0s 1ms/step - loss: 0.0803 - accuracy: 0.9785\n",
      "Epoch 37/150\n",
      "6/6 [==============================] - 0s 1ms/step - loss: 0.0756 - accuracy: 0.9746\n",
      "Epoch 38/150\n",
      "6/6 [==============================] - 0s 2ms/step - loss: 0.0781 - accuracy: 0.9844\n",
      "Epoch 39/150\n",
      "6/6 [==============================] - 0s 2ms/step - loss: 0.0747 - accuracy: 0.9785\n",
      "Epoch 40/150\n",
      "6/6 [==============================] - 0s 3ms/step - loss: 0.0766 - accuracy: 0.9805\n",
      "Epoch 41/150\n",
      "6/6 [==============================] - 0s 3ms/step - loss: 0.0781 - accuracy: 0.9824\n",
      "Epoch 42/150\n",
      "6/6 [==============================] - 0s 3ms/step - loss: 0.0723 - accuracy: 0.9785\n",
      "Epoch 43/150\n",
      "6/6 [==============================] - 0s 0s/step - loss: 0.0719 - accuracy: 0.9805\n",
      "Epoch 44/150\n",
      "6/6 [==============================] - 0s 3ms/step - loss: 0.0694 - accuracy: 0.9824\n",
      "Epoch 45/150\n",
      "6/6 [==============================] - 0s 3ms/step - loss: 0.0722 - accuracy: 0.9805\n",
      "Epoch 46/150\n",
      "6/6 [==============================] - 0s 3ms/step - loss: 0.0627 - accuracy: 0.9824\n",
      "Epoch 47/150\n",
      "6/6 [==============================] - 0s 2ms/step - loss: 0.0708 - accuracy: 0.9805\n",
      "Epoch 48/150\n",
      "6/6 [==============================] - 0s 3ms/step - loss: 0.0627 - accuracy: 0.9844\n",
      "Epoch 49/150\n",
      "6/6 [==============================] - 0s 3ms/step - loss: 0.0674 - accuracy: 0.9844\n",
      "Epoch 50/150\n",
      "6/6 [==============================] - 0s 4ms/step - loss: 0.0651 - accuracy: 0.9824\n",
      "Epoch 51/150\n",
      "6/6 [==============================] - 0s 3ms/step - loss: 0.0681 - accuracy: 0.9824\n",
      "Epoch 52/150\n",
      "6/6 [==============================] - 0s 3ms/step - loss: 0.0674 - accuracy: 0.9844\n",
      "Epoch 53/150\n",
      "6/6 [==============================] - 0s 2ms/step - loss: 0.0647 - accuracy: 0.9844\n",
      "Epoch 54/150\n",
      "6/6 [==============================] - 0s 1ms/step - loss: 0.0607 - accuracy: 0.9863\n",
      "Epoch 55/150\n",
      "6/6 [==============================] - 0s 3ms/step - loss: 0.0596 - accuracy: 0.9844\n",
      "Epoch 56/150\n",
      "6/6 [==============================] - 0s 2ms/step - loss: 0.0596 - accuracy: 0.9824\n",
      "Epoch 57/150\n",
      "6/6 [==============================] - 0s 4ms/step - loss: 0.0629 - accuracy: 0.9824\n",
      "Epoch 58/150\n",
      "6/6 [==============================] - 0s 2ms/step - loss: 0.0591 - accuracy: 0.9844\n",
      "Epoch 59/150\n",
      "6/6 [==============================] - 0s 3ms/step - loss: 0.0622 - accuracy: 0.9844\n",
      "Epoch 60/150\n",
      "6/6 [==============================] - 0s 2ms/step - loss: 0.0538 - accuracy: 0.9863\n",
      "Epoch 61/150\n",
      "6/6 [==============================] - 0s 3ms/step - loss: 0.0614 - accuracy: 0.9824\n",
      "Epoch 62/150\n",
      "6/6 [==============================] - 0s 3ms/step - loss: 0.0574 - accuracy: 0.9844\n",
      "Epoch 63/150\n",
      "6/6 [==============================] - 0s 2ms/step - loss: 0.0618 - accuracy: 0.9844\n",
      "Epoch 64/150\n",
      "6/6 [==============================] - 0s 2ms/step - loss: 0.0551 - accuracy: 0.9844\n",
      "Epoch 65/150\n",
      "6/6 [==============================] - 0s 2ms/step - loss: 0.0553 - accuracy: 0.9863\n",
      "Epoch 66/150\n",
      "6/6 [==============================] - 0s 3ms/step - loss: 0.0613 - accuracy: 0.9863\n",
      "Epoch 67/150\n",
      "6/6 [==============================] - 0s 3ms/step - loss: 0.0633 - accuracy: 0.9844\n",
      "Epoch 68/150\n",
      "6/6 [==============================] - 0s 3ms/step - loss: 0.0578 - accuracy: 0.9863\n",
      "Epoch 69/150\n",
      "6/6 [==============================] - 0s 1ms/step - loss: 0.0541 - accuracy: 0.9844\n",
      "Epoch 70/150\n",
      "6/6 [==============================] - 0s 1ms/step - loss: 0.0559 - accuracy: 0.9844\n",
      "Epoch 71/150\n",
      "6/6 [==============================] - 0s 1ms/step - loss: 0.0517 - accuracy: 0.9863\n",
      "Epoch 72/150\n",
      "6/6 [==============================] - 0s 2ms/step - loss: 0.0560 - accuracy: 0.9844\n",
      "Epoch 73/150\n",
      "6/6 [==============================] - 0s 1ms/step - loss: 0.0582 - accuracy: 0.9844\n",
      "Epoch 74/150\n",
      "6/6 [==============================] - 0s 2ms/step - loss: 0.0544 - accuracy: 0.9844\n",
      "Epoch 75/150\n",
      "6/6 [==============================] - 0s 2ms/step - loss: 0.0587 - accuracy: 0.9844\n",
      "Epoch 76/150\n",
      "6/6 [==============================] - 0s 3ms/step - loss: 0.0505 - accuracy: 0.9844\n",
      "Epoch 77/150\n",
      "6/6 [==============================] - 0s 4ms/step - loss: 0.0494 - accuracy: 0.9863\n",
      "Epoch 78/150\n",
      "6/6 [==============================] - 0s 3ms/step - loss: 0.0561 - accuracy: 0.9844\n",
      "Epoch 79/150\n",
      "6/6 [==============================] - 0s 2ms/step - loss: 0.0541 - accuracy: 0.9844\n",
      "Epoch 80/150\n",
      "6/6 [==============================] - 0s 2ms/step - loss: 0.0484 - accuracy: 0.9863\n",
      "Epoch 81/150\n",
      "6/6 [==============================] - 0s 2ms/step - loss: 0.0542 - accuracy: 0.9863\n",
      "Epoch 82/150\n",
      "6/6 [==============================] - 0s 2ms/step - loss: 0.0533 - accuracy: 0.9863\n",
      "Epoch 83/150\n",
      "6/6 [==============================] - 0s 3ms/step - loss: 0.0539 - accuracy: 0.9844\n",
      "Epoch 84/150\n",
      "6/6 [==============================] - 0s 2ms/step - loss: 0.0511 - accuracy: 0.9883\n",
      "Epoch 85/150\n",
      "6/6 [==============================] - 0s 2ms/step - loss: 0.0454 - accuracy: 0.9863\n",
      "Epoch 86/150\n",
      "6/6 [==============================] - 0s 1ms/step - loss: 0.0533 - accuracy: 0.9824\n",
      "Epoch 87/150\n",
      "6/6 [==============================] - 0s 959us/step - loss: 0.0527 - accuracy: 0.9902\n",
      "Epoch 88/150\n",
      "6/6 [==============================] - 0s 3ms/step - loss: 0.0506 - accuracy: 0.9844\n",
      "Epoch 89/150\n",
      "6/6 [==============================] - 0s 3ms/step - loss: 0.0492 - accuracy: 0.9883\n",
      "Epoch 90/150\n",
      "6/6 [==============================] - 0s 3ms/step - loss: 0.0490 - accuracy: 0.9883\n",
      "Epoch 91/150\n",
      "6/6 [==============================] - 0s 3ms/step - loss: 0.0482 - accuracy: 0.9863\n",
      "Epoch 92/150\n",
      "6/6 [==============================] - 0s 4ms/step - loss: 0.0492 - accuracy: 0.9863\n",
      "Epoch 93/150\n",
      "6/6 [==============================] - 0s 1ms/step - loss: 0.0471 - accuracy: 0.9883\n",
      "Epoch 94/150\n",
      "6/6 [==============================] - 0s 3ms/step - loss: 0.0481 - accuracy: 0.9883\n",
      "Epoch 95/150\n",
      "6/6 [==============================] - 0s 3ms/step - loss: 0.0474 - accuracy: 0.9883\n",
      "Epoch 96/150\n",
      "6/6 [==============================] - 0s 3ms/step - loss: 0.0503 - accuracy: 0.9902\n",
      "Epoch 97/150\n",
      "6/6 [==============================] - 0s 2ms/step - loss: 0.0450 - accuracy: 0.9922\n",
      "Epoch 98/150\n",
      "6/6 [==============================] - 0s 2ms/step - loss: 0.0438 - accuracy: 0.9922\n",
      "Epoch 99/150\n",
      "6/6 [==============================] - 0s 2ms/step - loss: 0.0497 - accuracy: 0.9863\n",
      "Epoch 100/150\n",
      "6/6 [==============================] - 0s 3ms/step - loss: 0.0434 - accuracy: 0.9902\n",
      "Epoch 101/150\n",
      "6/6 [==============================] - 0s 3ms/step - loss: 0.0470 - accuracy: 0.9902\n",
      "Epoch 102/150\n",
      "6/6 [==============================] - 0s 3ms/step - loss: 0.0489 - accuracy: 0.9902\n",
      "Epoch 103/150\n",
      "6/6 [==============================] - 0s 3ms/step - loss: 0.0489 - accuracy: 0.9902\n",
      "Epoch 104/150\n",
      "6/6 [==============================] - 0s 3ms/step - loss: 0.0473 - accuracy: 0.9902\n",
      "Epoch 105/150\n",
      "6/6 [==============================] - 0s 2ms/step - loss: 0.0438 - accuracy: 0.9902\n",
      "Epoch 106/150\n",
      "6/6 [==============================] - 0s 2ms/step - loss: 0.0466 - accuracy: 0.9863\n",
      "Epoch 107/150\n",
      "6/6 [==============================] - 0s 2ms/step - loss: 0.0432 - accuracy: 0.9922\n",
      "Epoch 108/150\n",
      "6/6 [==============================] - 0s 3ms/step - loss: 0.0475 - accuracy: 0.9902\n",
      "Epoch 109/150\n",
      "6/6 [==============================] - 0s 2ms/step - loss: 0.0435 - accuracy: 0.9922\n",
      "Epoch 110/150\n",
      "6/6 [==============================] - 0s 2ms/step - loss: 0.0470 - accuracy: 0.9902\n",
      "Epoch 111/150\n",
      "6/6 [==============================] - 0s 1ms/step - loss: 0.0428 - accuracy: 0.9922\n",
      "Epoch 112/150\n",
      "6/6 [==============================] - 0s 987us/step - loss: 0.0434 - accuracy: 0.9922\n",
      "Epoch 113/150\n",
      "6/6 [==============================] - 0s 1ms/step - loss: 0.0454 - accuracy: 0.9883\n",
      "Epoch 114/150\n",
      "6/6 [==============================] - 0s 3ms/step - loss: 0.0451 - accuracy: 0.9883\n",
      "Epoch 115/150\n",
      "6/6 [==============================] - 0s 2ms/step - loss: 0.0446 - accuracy: 0.9883\n",
      "Epoch 116/150\n",
      "6/6 [==============================] - 0s 2ms/step - loss: 0.0435 - accuracy: 0.9883\n",
      "Epoch 117/150\n",
      "6/6 [==============================] - 0s 2ms/step - loss: 0.0417 - accuracy: 0.9922\n",
      "Epoch 118/150\n",
      "6/6 [==============================] - 0s 0s/step - loss: 0.0481 - accuracy: 0.9883\n",
      "Epoch 119/150\n",
      "6/6 [==============================] - 0s 1ms/step - loss: 0.0426 - accuracy: 0.9922\n",
      "Epoch 120/150\n",
      "6/6 [==============================] - 0s 1ms/step - loss: 0.0412 - accuracy: 0.9922\n",
      "Epoch 121/150\n",
      "6/6 [==============================] - 0s 2ms/step - loss: 0.0424 - accuracy: 0.9922\n",
      "Epoch 122/150\n",
      "6/6 [==============================] - 0s 2ms/step - loss: 0.0455 - accuracy: 0.9883\n",
      "Epoch 123/150\n",
      "6/6 [==============================] - 0s 4ms/step - loss: 0.0443 - accuracy: 0.9902\n",
      "Epoch 124/150\n",
      "6/6 [==============================] - 0s 3ms/step - loss: 0.0434 - accuracy: 0.9902\n",
      "Epoch 125/150\n",
      "6/6 [==============================] - 0s 2ms/step - loss: 0.0392 - accuracy: 0.9922\n",
      "Epoch 126/150\n",
      "6/6 [==============================] - 0s 2ms/step - loss: 0.0443 - accuracy: 0.9902\n",
      "Epoch 127/150\n",
      "6/6 [==============================] - 0s 2ms/step - loss: 0.0446 - accuracy: 0.9902\n",
      "Epoch 128/150\n",
      "6/6 [==============================] - 0s 1ms/step - loss: 0.0431 - accuracy: 0.9883\n",
      "Epoch 129/150\n",
      "6/6 [==============================] - 0s 1ms/step - loss: 0.0408 - accuracy: 0.9922\n",
      "Epoch 130/150\n",
      "6/6 [==============================] - 0s 1ms/step - loss: 0.0437 - accuracy: 0.9902\n",
      "Epoch 131/150\n",
      "6/6 [==============================] - 0s 2ms/step - loss: 0.0434 - accuracy: 0.9883\n",
      "Epoch 132/150\n",
      "6/6 [==============================] - 0s 3ms/step - loss: 0.0404 - accuracy: 0.9902\n",
      "Epoch 133/150\n",
      "6/6 [==============================] - 0s 2ms/step - loss: 0.0446 - accuracy: 0.9902\n",
      "Epoch 134/150\n",
      "6/6 [==============================] - 0s 2ms/step - loss: 0.0402 - accuracy: 0.9902\n",
      "Epoch 135/150\n",
      "6/6 [==============================] - 0s 2ms/step - loss: 0.0401 - accuracy: 0.9883\n",
      "Epoch 136/150\n",
      "6/6 [==============================] - 0s 2ms/step - loss: 0.0423 - accuracy: 0.9883\n",
      "Epoch 137/150\n",
      "6/6 [==============================] - 0s 0s/step - loss: 0.0389 - accuracy: 0.9902\n",
      "Epoch 138/150\n",
      "6/6 [==============================] - 0s 1ms/step - loss: 0.0441 - accuracy: 0.9902\n",
      "Epoch 139/150\n",
      "6/6 [==============================] - 0s 1ms/step - loss: 0.0407 - accuracy: 0.9922\n",
      "Epoch 140/150\n",
      "6/6 [==============================] - 0s 2ms/step - loss: 0.0418 - accuracy: 0.9902\n",
      "Epoch 141/150\n",
      "6/6 [==============================] - 0s 3ms/step - loss: 0.0371 - accuracy: 0.9922\n",
      "Epoch 142/150\n",
      "6/6 [==============================] - 0s 2ms/step - loss: 0.0372 - accuracy: 0.9922\n",
      "Epoch 143/150\n",
      "6/6 [==============================] - 0s 2ms/step - loss: 0.0398 - accuracy: 0.9902\n",
      "Epoch 144/150\n",
      "6/6 [==============================] - 0s 2ms/step - loss: 0.0383 - accuracy: 0.9922\n",
      "Epoch 145/150\n",
      "6/6 [==============================] - 0s 2ms/step - loss: 0.0361 - accuracy: 0.9922\n",
      "Epoch 146/150\n",
      "6/6 [==============================] - 0s 1ms/step - loss: 0.0395 - accuracy: 0.9902\n",
      "Epoch 147/150\n",
      "6/6 [==============================] - 0s 1ms/step - loss: 0.0435 - accuracy: 0.9902\n",
      "Epoch 148/150\n",
      "6/6 [==============================] - 0s 3ms/step - loss: 0.0359 - accuracy: 0.9922\n",
      "Epoch 149/150\n",
      "6/6 [==============================] - 0s 2ms/step - loss: 0.0383 - accuracy: 0.9922\n",
      "Epoch 150/150\n",
      "6/6 [==============================] - 0s 2ms/step - loss: 0.0377 - accuracy: 0.9922\n"
     ]
    },
    {
     "data": {
      "text/plain": [
       "<keras.callbacks.History at 0x1c6f805a310>"
      ]
     },
     "execution_count": 26,
     "metadata": {},
     "output_type": "execute_result"
    }
   ],
   "source": [
    "# Fitting the ANN to the Training set\n",
    "classifier.fit(X_train, y_train, batch_size=100, epochs=150)\n",
    "# Long scroll ahead but worth\n",
    "# The batch size and number of epochs have been set using trial and error. Still looking for more efficient ways. Open to suggestions. "
   ]
  },
  {
   "cell_type": "markdown",
   "metadata": {},
   "source": [
    "### Blog on epochs,iteration and batch size\n",
    "https://towardsdatascience.com/epoch-vs-iterations-vs-batch-size-4dfb9c7ce9c9"
   ]
  },
  {
   "cell_type": "markdown",
   "metadata": {
    "_cell_guid": "91cb842e-c693-4ddc-938e-b25dd5fd8d64",
    "_uuid": "e700dd6d93bfc99f1fb10a1914c33764df95b79f"
   },
   "source": [
    "Batch size defines number of samples that going to be propagated through the network.\n",
    "\n",
    "An Epoch is a complete pass through all the training data."
   ]
  },
  {
   "cell_type": "code",
   "execution_count": 27,
   "metadata": {
    "_cell_guid": "cc405d00-4e8c-4882-8251-d83d4b269895",
    "_uuid": "2a668b12248656821e4797a95ed0a878a63d8ee1"
   },
   "outputs": [],
   "source": [
    "# Predicting the Test set results\n",
    "y_pred = classifier.predict(X_test)\n",
    "y_pred = (y_pred > 0.5)"
   ]
  },
  {
   "cell_type": "code",
   "execution_count": 28,
   "metadata": {
    "_cell_guid": "22c127bd-8608-4d8e-909b-4b90b7e24fee",
    "_uuid": "b4c8343b16d7022ccb77f8e64f46e96ac5fbe41c"
   },
   "outputs": [],
   "source": [
    "# Making the Confusion Matrix\n",
    "from sklearn.metrics import confusion_matrix\n",
    "cm = confusion_matrix(y_test, y_pred)"
   ]
  },
  {
   "cell_type": "code",
   "execution_count": 29,
   "metadata": {
    "_cell_guid": "2d631e23-de49-42ff-94e3-528f4131e97e",
    "_uuid": "5ed1db854bfc4bc4fb49782e7adcaaf25fe9d41e"
   },
   "outputs": [
    {
     "name": "stdout",
     "output_type": "stream",
     "text": [
      "Our accuracy is 98.24561403508771%\n"
     ]
    }
   ],
   "source": [
    "print(\"Our accuracy is {}%\".format(((cm[0][0] + cm[1][1])/57)*100))"
   ]
  },
  {
   "cell_type": "code",
   "execution_count": 30,
   "metadata": {
    "_uuid": "837036fec6bd2c2ee831bd3232804b001e472678"
   },
   "outputs": [
    {
     "data": {
      "image/png": "[encoded data removed]",
      "text/plain": [
       "<Figure size 432x288 with 2 Axes>"
      ]
     },
     "metadata": {
      "needs_background": "light"
     },
     "output_type": "display_data"
    }
   ],
   "source": [
    "sns.heatmap(cm,annot=True)\n",
    "plt.savefig('h.png')"
   ]
  },
  {
   "cell_type": "markdown",
   "metadata": {
    "_cell_guid": "b9ec3bc5-b073-45e5-aefc-a521c4dc9502",
    "_uuid": "68225ba8a764c54a035a068bf3852f6a084819e0",
    "collapsed": true
   },
   "source": [
    "Thanks for reading this. May this help you on your \"deep\" journey into machine learning."
   ]
  }
 ],
 "metadata": {
  "kernelspec": {
   "display_name": "Python 3",
   "language": "python",
   "name": "python3"
  },
  "language_info": {
   "codemirror_mode": {
    "name": "ipython",
    "version": 3
   },
   "file_extension": ".py",
   "mimetype": "text/x-python",
   "name": "python",
   "nbconvert_exporter": "python",
   "pygments_lexer": "ipython3",
   "version": "3.8.8"
  }
 },
 "nbformat": 4,
 "nbformat_minor": 1
}
